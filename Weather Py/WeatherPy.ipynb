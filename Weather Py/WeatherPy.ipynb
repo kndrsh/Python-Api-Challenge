{
 "cells": [
  {
   "cell_type": "markdown",
   "metadata": {},
   "source": [
    "# WeatherPy\n",
    "----\n",
    "\n",
    "#### Note\n",
    "* Instructions have been included for each segment. You do not have to follow them exactly, but they are included to help you think through the steps."
   ]
  },
  {
   "cell_type": "code",
   "execution_count": 6,
   "metadata": {
    "scrolled": true
   },
   "outputs": [],
   "source": [
    "# Dependencies and Setup\n",
    "import matplotlib.pyplot as plt\n",
    "import pandas as pd\n",
    "import numpy as np\n",
    "import requests\n",
    "import time\n",
    "from scipy.stats import linregress\n",
    "\n",
    "\n",
    "# Import API key\n",
    "from api_keys import weather_api_key\n",
    "from api_keys import g_key \n",
    "\n",
    "# Incorporated citipy to determine city based on latitude and longitude\n",
    "from citipy import citipy\n",
    "\n",
    "# Output File (CSV)\n",
    "output_data_file = \"output_data/cities.csv\"\n",
    "\n",
    "# Range of latitudes and longitudes\n",
    "lat_range = (-90, 90)\n",
    "lng_range = (-180, 180)"
   ]
  },
  {
   "cell_type": "markdown",
   "metadata": {},
   "source": [
    "## Generate Cities List"
   ]
  },
  {
   "cell_type": "code",
   "execution_count": 12,
   "metadata": {},
   "outputs": [
    {
     "name": "stdout",
     "output_type": "stream",
     "text": [
      "612\n"
     ]
    }
   ],
   "source": [
    "# List for holding lat_lngs and cities\n",
    "lat_lngs = []\n",
    "cities = []\n",
    "\n",
    "# Create a set of random lat and lng combinations\n",
    "lats = np.random.uniform(lat_range[0], lat_range[1], size=1500)\n",
    "lngs = np.random.uniform(lng_range[0], lng_range[1], size=1500)\n",
    "lat_lngs = zip(lats, lngs)\n",
    "\n",
    "# Identify nearest city for each lat, lng combination\n",
    "for lat_lng in lat_lngs:\n",
    "    city = citipy.nearest_city(lat_lng[0], lat_lng[1]).city_name\n",
    "    \n",
    "    # If the city is unique, then add it to a our cities list\n",
    "    if city not in cities:\n",
    "        cities.append(city)\n",
    "\n",
    "# Print the city count to confirm sufficient count\n",
    "print(len(cities))\n",
    "\n"
   ]
  },
  {
   "cell_type": "markdown",
   "metadata": {},
   "source": [
    "### Perform API Calls\n",
    "* Perform a weather check on each city using a series of successive API calls.\n",
    "* Include a print log of each city as it'sbeing processed (with the city number and city name).\n"
   ]
  },
  {
   "cell_type": "code",
   "execution_count": null,
   "metadata": {
    "scrolled": true
   },
   "outputs": [
    {
     "name": "stdout",
     "output_type": "stream",
     "text": [
      "Beginning Data Retrieval \n",
      "-----------------------------\n",
      "Processing Record 1 of Set 1 : kahului\n",
      "Processing Record 2 of Set 1 : ust-maya\n",
      "Processing Record 3 of Set 1 : puerto colombia\n",
      "Processing Record 4 of Set 1 : port alfred\n",
      "Processing Record 5 of Set 1 : cidreira\n",
      "Processing Record 6 of Set 1 : bluff\n",
      "Processing Record 7 of Set 1 : salamanca\n",
      "Processing Record 8 of Set 1 : chuy\n",
      "City not found. Skipping...\n",
      "Processing Record 9 of Set 1 : quthing\n",
      "Processing Record 10 of Set 1 : daru\n",
      "Processing Record 11 of Set 1 : bredasdorp\n",
      "Processing Record 12 of Set 1 : new norfolk\n",
      "City not found. Skipping...\n",
      "Processing Record 13 of Set 1 : hermanus\n",
      "Processing Record 14 of Set 1 : saskylakh\n",
      "Processing Record 15 of Set 1 : asfi\n",
      "Processing Record 16 of Set 1 : ieud\n",
      "Processing Record 17 of Set 1 : kapaa\n",
      "Processing Record 18 of Set 1 : faanui\n",
      "Processing Record 19 of Set 1 : hearst\n",
      "Processing Record 20 of Set 1 : saint-philippe\n",
      "Processing Record 21 of Set 1 : carnarvon\n",
      "Processing Record 22 of Set 1 : rikitea\n",
      "Processing Record 23 of Set 1 : luancheng\n",
      "Processing Record 24 of Set 1 : alofi\n",
      "Processing Record 25 of Set 1 : yellowknife\n",
      "Processing Record 26 of Set 1 : ucluelet\n",
      "Processing Record 27 of Set 1 : volokolamsk\n",
      "Processing Record 28 of Set 1 : albany\n",
      "Processing Record 29 of Set 1 : narrabri\n",
      "Processing Record 30 of Set 1 : busselton\n",
      "Processing Record 31 of Set 1 : pevek\n",
      "Processing Record 32 of Set 1 : souillac\n",
      "Processing Record 33 of Set 1 : santa isabel do rio negro\n",
      "Processing Record 34 of Set 1 : vaini\n",
      "Processing Record 35 of Set 1 : avarua\n",
      "Processing Record 36 of Set 1 : smithers\n",
      "Processing Record 37 of Set 1 : sterling\n",
      "Processing Record 38 of Set 1 : methoni\n",
      "Processing Record 39 of Set 1 : castro\n",
      "City not found. Skipping...\n",
      "City not found. Skipping...\n",
      "Processing Record 40 of Set 1 : tautira\n",
      "Processing Record 41 of Set 1 : cabo san lucas\n",
      "City not found. Skipping...\n",
      "Processing Record 42 of Set 1 : niceville\n",
      "Processing Record 43 of Set 1 : upernavik\n",
      "Processing Record 44 of Set 1 : hithadhoo\n",
      "Processing Record 45 of Set 1 : winsum\n",
      "Processing Record 46 of Set 1 : abonnema\n",
      "Processing Record 47 of Set 1 : ushuaia\n",
      "Processing Record 48 of Set 1 : qaanaaq\n",
      "Processing Record 49 of Set 1 : tikrit\n",
      "Processing Record 50 of Set 1 : aasiaat\n",
      "Processing Record 0 of Set 2 : dondo\n",
      "Processing Record 1 of Set 2 : bambous virieux\n",
      "Processing Record 2 of Set 2 : airai\n",
      "Processing Record 3 of Set 2 : tuntum\n",
      "Processing Record 4 of Set 2 : mendoza\n",
      "Processing Record 5 of Set 2 : mataura\n",
      "Processing Record 6 of Set 2 : narasannapeta\n",
      "Processing Record 7 of Set 2 : tura\n",
      "Processing Record 8 of Set 2 : lebu\n",
      "Processing Record 9 of Set 2 : cape town\n",
      "Processing Record 10 of Set 2 : punta arenas\n",
      "Processing Record 11 of Set 2 : camacha\n",
      "Processing Record 12 of Set 2 : lagoa\n",
      "Processing Record 13 of Set 2 : hobart\n",
      "Processing Record 14 of Set 2 : san jose\n",
      "Processing Record 15 of Set 2 : hilo\n",
      "Processing Record 16 of Set 2 : ust-kuyga\n",
      "Processing Record 17 of Set 2 : saint-leu\n",
      "Processing Record 18 of Set 2 : brigham city\n",
      "Processing Record 19 of Set 2 : chiang klang\n",
      "Processing Record 20 of Set 2 : shushtar\n",
      "Processing Record 21 of Set 2 : ancud\n",
      "Processing Record 22 of Set 2 : saldanha\n",
      "Processing Record 23 of Set 2 : provideniya\n",
      "Processing Record 24 of Set 2 : thompson\n",
      "Processing Record 25 of Set 2 : tigil\n",
      "Processing Record 26 of Set 2 : pathein\n",
      "Processing Record 27 of Set 2 : norman wells\n",
      "Processing Record 28 of Set 2 : luganville\n",
      "City not found. Skipping...\n",
      "Processing Record 29 of Set 2 : jamestown\n",
      "Processing Record 30 of Set 2 : victoria\n",
      "Processing Record 31 of Set 2 : hammerfest\n",
      "Processing Record 32 of Set 2 : mankono\n",
      "Processing Record 33 of Set 2 : borisoglebskiy\n",
      "Processing Record 34 of Set 2 : bathsheba\n",
      "Processing Record 35 of Set 2 : tuktoyaktuk\n",
      "Processing Record 36 of Set 2 : marsh harbour\n",
      "Processing Record 37 of Set 2 : hervey bay\n",
      "Processing Record 38 of Set 2 : miramar\n",
      "Processing Record 39 of Set 2 : goderich\n",
      "Processing Record 40 of Set 2 : conakry\n",
      "City not found. Skipping...\n",
      "Processing Record 41 of Set 2 : guadalajara\n",
      "Processing Record 42 of Set 2 : neiafu\n",
      "Processing Record 43 of Set 2 : pribram\n",
      "Processing Record 44 of Set 2 : kodiak\n",
      "Processing Record 45 of Set 2 : bjorkelangen\n",
      "Processing Record 46 of Set 2 : saint george\n",
      "Processing Record 47 of Set 2 : barra patuca\n",
      "City not found. Skipping...\n",
      "Processing Record 48 of Set 2 : dikson\n",
      "Processing Record 49 of Set 2 : tiznit\n",
      "Processing Record 50 of Set 2 : guerrero negro\n",
      "Processing Record 0 of Set 3 : kavieng\n",
      "Processing Record 1 of Set 3 : bilibino\n",
      "Processing Record 2 of Set 3 : port elizabeth\n",
      "Processing Record 3 of Set 3 : longyearbyen\n",
      "Processing Record 4 of Set 3 : nyurba\n",
      "City not found. Skipping...\n",
      "Processing Record 5 of Set 3 : wanning\n",
      "Processing Record 6 of Set 3 : yatou\n",
      "City not found. Skipping...\n",
      "Processing Record 7 of Set 3 : puerto ayora\n",
      "Processing Record 8 of Set 3 : palafrugell\n",
      "Processing Record 9 of Set 3 : gusev\n",
      "Processing Record 10 of Set 3 : pangnirtung\n",
      "Processing Record 11 of Set 3 : east london\n",
      "Processing Record 12 of Set 3 : kruisfontein\n",
      "Processing Record 13 of Set 3 : ponta do sol\n",
      "City not found. Skipping...\n",
      "Processing Record 14 of Set 3 : tarko-sale\n",
      "Processing Record 15 of Set 3 : visby\n",
      "Processing Record 16 of Set 3 : mar del plata\n",
      "Processing Record 17 of Set 3 : chokurdakh\n",
      "Processing Record 18 of Set 3 : haicheng\n",
      "Processing Record 19 of Set 3 : salalah\n"
     ]
    }
   ],
   "source": [
    "city_name_list = []\n",
    "cloudiness_list = []\n",
    "country_list = []\n",
    "date_list = []\n",
    "humidity_list = []\n",
    "lat_list = []\n",
    "lng_list = []\n",
    "max_temp_list = []\n",
    "wind_speed_list = []\n",
    "index_counter = 0\n",
    "set_counter = 1\n",
    "\n",
    "\n",
    "\n",
    "print(\"Beginning Data Retrieval \")\n",
    "print(\"-----------------------------\")\n",
    "\n",
    "base_url = \"http://api.openweathermap.org/data/2.5/weather?\"\n",
    "units = \"imperial\"\n",
    "query_url = f\"{base_url}appid={weather_api_key}&units={units}&q=\"\n",
    "\n",
    "\n",
    "# For each city name in cities list, do below things...\n",
    "for index, city in enumerate(cities, start = 1):\n",
    "    try:\n",
    "        response = requests.get(query_url + city).json()\n",
    "        city_name_list.append(response[\"name\"])\n",
    "        cloudiness_list.append(response[\"clouds\"][\"all\"])\n",
    "        country_list.append(response[\"sys\"][\"country\"])\n",
    "        date_list.append(response[\"dt\"])\n",
    "        humidity_list.append(response[\"main\"][\"humidity\"])\n",
    "        lat_list.append(response[\"coord\"][\"lat\"])\n",
    "        lng_list.append(response[\"coord\"][\"lon\"])\n",
    "        max_temp_list.append(response['main']['temp_max'])\n",
    "        wind_speed_list.append(response[\"wind\"][\"speed\"])\n",
    "        if index_counter > 49:\n",
    "            index_counter = 0\n",
    "            set_counter = set_counter + 1\n",
    "    \n",
    "        else:\n",
    "            index_counter = index_counter + 1\n",
    "            \n",
    "        print(f\"Processing Record {index_counter} of Set {set_counter} : {city}\") \n",
    "  \n",
    "    except(KeyError, IndexError):\n",
    "        print(\"City not found. Skipping...\")\n",
    "\n",
    "print(\"-----------------------------\")\n",
    "print(\"Data Retrieval Complete\")\n",
    "print(\"-----------------------------\")"
   ]
  },
  {
   "cell_type": "markdown",
   "metadata": {},
   "source": [
    "### Convert Raw Data to DataFrame\n",
    "* Export the city data into a .csv.\n",
    "* Display the DataFrame"
   ]
  },
  {
   "cell_type": "code",
   "execution_count": null,
   "metadata": {},
   "outputs": [],
   "source": []
  },
  {
   "cell_type": "code",
   "execution_count": null,
   "metadata": {},
   "outputs": [],
   "source": []
  },
  {
   "cell_type": "code",
   "execution_count": null,
   "metadata": {},
   "outputs": [],
   "source": []
  },
  {
   "cell_type": "markdown",
   "metadata": {},
   "source": [
    "## Inspect the data and remove the cities where the humidity > 100%.\n",
    "----\n",
    "Skip this step if there are no cities that have humidity > 100%. "
   ]
  },
  {
   "cell_type": "code",
   "execution_count": null,
   "metadata": {},
   "outputs": [],
   "source": []
  },
  {
   "cell_type": "code",
   "execution_count": null,
   "metadata": {},
   "outputs": [],
   "source": [
    "#  Get the indices of cities that have humidity over 100%.\n"
   ]
  },
  {
   "cell_type": "code",
   "execution_count": null,
   "metadata": {},
   "outputs": [],
   "source": [
    "# Make a new DataFrame equal to the city data to drop all humidity outliers by index.\n",
    "# Passing \"inplace=False\" will make a copy of the city_data DataFrame, which we call \"clean_city_data\".\n"
   ]
  },
  {
   "cell_type": "code",
   "execution_count": null,
   "metadata": {},
   "outputs": [],
   "source": [
    "\n"
   ]
  },
  {
   "cell_type": "markdown",
   "metadata": {},
   "source": [
    "## Plotting the Data\n",
    "* Use proper labeling of the plots using plot titles (including date of analysis) and axes labels.\n",
    "* Save the plotted figures as .pngs."
   ]
  },
  {
   "cell_type": "markdown",
   "metadata": {},
   "source": [
    "## Latitude vs. Temperature Plot"
   ]
  },
  {
   "cell_type": "code",
   "execution_count": null,
   "metadata": {
    "scrolled": true
   },
   "outputs": [],
   "source": []
  },
  {
   "cell_type": "markdown",
   "metadata": {},
   "source": [
    "## Latitude vs. Humidity Plot"
   ]
  },
  {
   "cell_type": "code",
   "execution_count": null,
   "metadata": {},
   "outputs": [],
   "source": []
  },
  {
   "cell_type": "markdown",
   "metadata": {},
   "source": [
    "## Latitude vs. Cloudiness Plot"
   ]
  },
  {
   "cell_type": "code",
   "execution_count": null,
   "metadata": {},
   "outputs": [],
   "source": []
  },
  {
   "cell_type": "markdown",
   "metadata": {},
   "source": [
    "## Latitude vs. Wind Speed Plot"
   ]
  },
  {
   "cell_type": "code",
   "execution_count": null,
   "metadata": {},
   "outputs": [],
   "source": []
  },
  {
   "cell_type": "markdown",
   "metadata": {},
   "source": [
    "## Linear Regression"
   ]
  },
  {
   "cell_type": "code",
   "execution_count": null,
   "metadata": {},
   "outputs": [],
   "source": []
  },
  {
   "cell_type": "markdown",
   "metadata": {},
   "source": [
    "####  Northern Hemisphere - Max Temp vs. Latitude Linear Regression"
   ]
  },
  {
   "cell_type": "code",
   "execution_count": null,
   "metadata": {},
   "outputs": [],
   "source": []
  },
  {
   "cell_type": "markdown",
   "metadata": {},
   "source": [
    "####  Southern Hemisphere - Max Temp vs. Latitude Linear Regression"
   ]
  },
  {
   "cell_type": "code",
   "execution_count": null,
   "metadata": {},
   "outputs": [],
   "source": []
  },
  {
   "cell_type": "markdown",
   "metadata": {},
   "source": [
    "####  Northern Hemisphere - Humidity (%) vs. Latitude Linear Regression"
   ]
  },
  {
   "cell_type": "code",
   "execution_count": null,
   "metadata": {},
   "outputs": [],
   "source": []
  },
  {
   "cell_type": "markdown",
   "metadata": {},
   "source": [
    "####  Southern Hemisphere - Humidity (%) vs. Latitude Linear Regression"
   ]
  },
  {
   "cell_type": "code",
   "execution_count": null,
   "metadata": {},
   "outputs": [],
   "source": []
  },
  {
   "cell_type": "markdown",
   "metadata": {},
   "source": [
    "####  Northern Hemisphere - Cloudiness (%) vs. Latitude Linear Regression"
   ]
  },
  {
   "cell_type": "code",
   "execution_count": null,
   "metadata": {},
   "outputs": [],
   "source": []
  },
  {
   "cell_type": "markdown",
   "metadata": {},
   "source": [
    "####  Southern Hemisphere - Cloudiness (%) vs. Latitude Linear Regression"
   ]
  },
  {
   "cell_type": "code",
   "execution_count": null,
   "metadata": {},
   "outputs": [],
   "source": []
  },
  {
   "cell_type": "markdown",
   "metadata": {},
   "source": [
    "####  Northern Hemisphere - Wind Speed (mph) vs. Latitude Linear Regression"
   ]
  },
  {
   "cell_type": "code",
   "execution_count": null,
   "metadata": {},
   "outputs": [],
   "source": []
  },
  {
   "cell_type": "markdown",
   "metadata": {},
   "source": [
    "####  Southern Hemisphere - Wind Speed (mph) vs. Latitude Linear Regression"
   ]
  },
  {
   "cell_type": "code",
   "execution_count": null,
   "metadata": {},
   "outputs": [],
   "source": []
  },
  {
   "cell_type": "code",
   "execution_count": null,
   "metadata": {},
   "outputs": [],
   "source": []
  }
 ],
 "metadata": {
  "anaconda-cloud": {},
  "kernel_info": {
   "name": "python3"
  },
  "kernelspec": {
   "display_name": "Python [conda env:PythonData] *",
   "language": "python",
   "name": "conda-env-PythonData-py"
  },
  "language_info": {
   "codemirror_mode": {
    "name": "ipython",
    "version": 3
   },
   "file_extension": ".py",
   "mimetype": "text/x-python",
   "name": "python",
   "nbconvert_exporter": "python",
   "pygments_lexer": "ipython3",
   "version": "3.6.10"
  },
  "latex_envs": {
   "LaTeX_envs_menu_present": true,
   "autoclose": false,
   "autocomplete": true,
   "bibliofile": "biblio.bib",
   "cite_by": "apalike",
   "current_citInitial": 1,
   "eqLabelWithNumbers": true,
   "eqNumInitial": 1,
   "hotkeys": {
    "equation": "Ctrl-E",
    "itemize": "Ctrl-I"
   },
   "labels_anchors": false,
   "latex_user_defs": false,
   "report_style_numbering": false,
   "user_envs_cfg": false
  },
  "nteract": {
   "version": "0.12.3"
  }
 },
 "nbformat": 4,
 "nbformat_minor": 2
}
