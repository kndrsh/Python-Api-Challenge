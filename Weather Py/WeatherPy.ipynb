{
 "cells": [
  {
   "cell_type": "markdown",
   "metadata": {},
   "source": [
    "# WeatherPy\n",
    "----\n",
    "\n",
    "#### Note\n",
    "* Instructions have been included for each segment. You do not have to follow them exactly, but they are included to help you think through the steps."
   ]
  },
  {
   "cell_type": "code",
   "execution_count": 2,
   "metadata": {
    "scrolled": true
   },
   "outputs": [],
   "source": [
    "# Dependencies and Setup\n",
    "import matplotlib.pyplot as plt\n",
    "import pandas as pd\n",
    "import numpy as np\n",
    "import requests\n",
    "import time\n",
    "import scipy.stats as st\n",
    "from scipy.stats import linregress\n",
    "\n",
    "\n",
    "# Import API key\n",
    "from api_keys import weather_api_key\n",
    "from api_keys import g_key \n",
    "\n",
    "# Incorporated citipy to determine city based on latitude and longitude\n",
    "from citipy import citipy\n",
    "\n",
    "# Output File (CSV)\n",
    "output_data_file = \"output_data/cities.csv\"\n",
    "\n",
    "# Range of latitudes and longitudes\n",
    "lat_range = (-90, 90)\n",
    "lng_range = (-180, 180)"
   ]
  },
  {
   "cell_type": "markdown",
   "metadata": {},
   "source": [
    "## Generate Cities List"
   ]
  },
  {
   "cell_type": "code",
   "execution_count": 3,
   "metadata": {},
   "outputs": [
    {
     "name": "stdout",
     "output_type": "stream",
     "text": [
      "603\n"
     ]
    }
   ],
   "source": [
    "# List for holding lat_lngs and cities\n",
    "lat_lngs = []\n",
    "cities = []\n",
    "\n",
    "# Create a set of random lat and lng combinations\n",
    "lats = np.random.uniform(lat_range[0], lat_range[1], size=1500)\n",
    "lngs = np.random.uniform(lng_range[0], lng_range[1], size=1500)\n",
    "lat_lngs = zip(lats, lngs)\n",
    "\n",
    "# Identify nearest city for each lat, lng combination\n",
    "for lat_lng in lat_lngs:\n",
    "    city = citipy.nearest_city(lat_lng[0], lat_lng[1]).city_name\n",
    "    \n",
    "    # If the city is unique, then add it to a our cities list\n",
    "    if city not in cities:\n",
    "        cities.append(city)\n",
    "\n",
    "# Print the city count to confirm sufficient count\n",
    "print(len(cities))\n",
    "\n"
   ]
  },
  {
   "cell_type": "markdown",
   "metadata": {},
   "source": [
    "### Perform API Calls\n",
    "* Perform a weather check on each city using a series of successive API calls.\n",
    "* Include a print log of each city as it'sbeing processed (with the city number and city name).\n"
   ]
  },
  {
   "cell_type": "code",
   "execution_count": 4,
   "metadata": {
    "scrolled": true
   },
   "outputs": [
    {
     "name": "stdout",
     "output_type": "stream",
     "text": [
      "Beginning Data Retrieval \n",
      "-----------------------------\n",
      "Processing Record 1 of Set 1 : tasiilaq\n",
      "Processing Record 2 of Set 1 : thompson\n",
      "Processing Record 3 of Set 1 : mataura\n",
      "Processing Record 4 of Set 1 : san patricio\n",
      "Processing Record 5 of Set 1 : yellowknife\n",
      "Processing Record 6 of Set 1 : vaini\n",
      "Processing Record 7 of Set 1 : cherskiy\n",
      "Processing Record 8 of Set 1 : severo-kurilsk\n",
      "Processing Record 9 of Set 1 : hobart\n",
      "Processing Record 10 of Set 1 : saskylakh\n",
      "Processing Record 11 of Set 1 : new norfolk\n",
      "Processing Record 12 of Set 1 : durango\n",
      "Processing Record 13 of Set 1 : punta arenas\n",
      "Processing Record 14 of Set 1 : spring valley\n",
      "Processing Record 15 of Set 1 : albany\n",
      "Processing Record 16 of Set 1 : bengkulu\n",
      "Processing Record 17 of Set 1 : geraldton\n",
      "Processing Record 18 of Set 1 : ushuaia\n",
      "Processing Record 19 of Set 1 : port alfred\n",
      "Processing Record 20 of Set 1 : qianan\n",
      "Processing Record 21 of Set 1 : longyearbyen\n",
      "Processing Record 22 of Set 1 : cape town\n",
      "Processing Record 23 of Set 1 : butaritari\n",
      "Processing Record 24 of Set 1 : east london\n",
      "Processing Record 25 of Set 1 : henties bay\n",
      "Processing Record 26 of Set 1 : tiksi\n",
      "Processing Record 27 of Set 1 : atuona\n",
      "Processing Record 28 of Set 1 : mackay\n",
      "City not found. Skipping...\n",
      "Processing Record 29 of Set 1 : busselton\n",
      "City not found. Skipping...\n",
      "Processing Record 30 of Set 1 : tuktoyaktuk\n",
      "Processing Record 31 of Set 1 : san julian\n",
      "Processing Record 32 of Set 1 : kodiak\n",
      "City not found. Skipping...\n",
      "Processing Record 33 of Set 1 : sao filipe\n",
      "Processing Record 34 of Set 1 : rio grande\n",
      "Processing Record 35 of Set 1 : wala\n",
      "Processing Record 36 of Set 1 : iqaluit\n",
      "Processing Record 37 of Set 1 : cidreira\n",
      "City not found. Skipping...\n",
      "Processing Record 38 of Set 1 : qaanaaq\n",
      "Processing Record 39 of Set 1 : bredasdorp\n",
      "Processing Record 40 of Set 1 : rikitea\n",
      "Processing Record 41 of Set 1 : mount gambier\n",
      "Processing Record 42 of Set 1 : cabo san lucas\n",
      "City not found. Skipping...\n",
      "Processing Record 43 of Set 1 : khatanga\n",
      "Processing Record 44 of Set 1 : lethem\n",
      "Processing Record 45 of Set 1 : mandla\n",
      "Processing Record 46 of Set 1 : saldanha\n",
      "Processing Record 47 of Set 1 : chokurdakh\n",
      "Processing Record 48 of Set 1 : yar-sale\n",
      "City not found. Skipping...\n",
      "Processing Record 49 of Set 1 : padang\n",
      "Processing Record 50 of Set 1 : hithadhoo\n",
      "Processing Record 0 of Set 2 : port elizabeth\n",
      "City not found. Skipping...\n",
      "Processing Record 1 of Set 2 : port hardy\n",
      "Processing Record 2 of Set 2 : aksarka\n",
      "City not found. Skipping...\n",
      "Processing Record 3 of Set 2 : puerto ayora\n",
      "Processing Record 4 of Set 2 : opuwo\n",
      "City not found. Skipping...\n",
      "Processing Record 5 of Set 2 : ponta do sol\n",
      "Processing Record 6 of Set 2 : boda\n",
      "Processing Record 7 of Set 2 : saint-philippe\n",
      "Processing Record 8 of Set 2 : mindif\n",
      "Processing Record 9 of Set 2 : kapaa\n",
      "Processing Record 10 of Set 2 : high level\n",
      "Processing Record 11 of Set 2 : pangai\n",
      "Processing Record 12 of Set 2 : bambous virieux\n",
      "Processing Record 13 of Set 2 : chapais\n",
      "Processing Record 14 of Set 2 : hermanus\n",
      "Processing Record 15 of Set 2 : dingle\n",
      "Processing Record 16 of Set 2 : namibe\n",
      "Processing Record 17 of Set 2 : jamestown\n",
      "Processing Record 18 of Set 2 : tukrah\n",
      "Processing Record 19 of Set 2 : san felipe\n",
      "Processing Record 20 of Set 2 : lubango\n",
      "Processing Record 21 of Set 2 : zhigansk\n",
      "Processing Record 22 of Set 2 : bandarbeyla\n",
      "Processing Record 23 of Set 2 : xuddur\n",
      "Processing Record 24 of Set 2 : maldonado\n",
      "City not found. Skipping...\n",
      "Processing Record 25 of Set 2 : barrow\n",
      "Processing Record 26 of Set 2 : tukums\n",
      "Processing Record 27 of Set 2 : bluff\n",
      "Processing Record 28 of Set 2 : barinas\n",
      "City not found. Skipping...\n",
      "City not found. Skipping...\n",
      "Processing Record 29 of Set 2 : eugene\n",
      "Processing Record 30 of Set 2 : avarua\n",
      "Processing Record 31 of Set 2 : katsuura\n",
      "Processing Record 32 of Set 2 : buala\n",
      "Processing Record 33 of Set 2 : tanah merah\n",
      "Processing Record 34 of Set 2 : carnarvon\n",
      "Processing Record 35 of Set 2 : broome\n",
      "Processing Record 36 of Set 2 : garbolovo\n",
      "Processing Record 37 of Set 2 : nikolskoye\n",
      "Processing Record 38 of Set 2 : hobyo\n",
      "Processing Record 39 of Set 2 : pasni\n",
      "Processing Record 40 of Set 2 : espanola\n",
      "Processing Record 41 of Set 2 : linares\n",
      "Processing Record 42 of Set 2 : cabo rojo\n",
      "Processing Record 43 of Set 2 : lilongwe\n",
      "Processing Record 44 of Set 2 : kaitangata\n",
      "Processing Record 45 of Set 2 : lishu\n",
      "Processing Record 46 of Set 2 : palu\n",
      "Processing Record 47 of Set 2 : guarapari\n",
      "Processing Record 48 of Set 2 : maputo\n",
      "Processing Record 49 of Set 2 : norman wells\n",
      "Processing Record 50 of Set 2 : kerema\n",
      "Processing Record 0 of Set 3 : georgetown\n",
      "Processing Record 1 of Set 3 : guerrero negro\n",
      "Processing Record 2 of Set 3 : hilo\n",
      "City not found. Skipping...\n",
      "Processing Record 3 of Set 3 : bethel\n",
      "Processing Record 4 of Set 3 : ilulissat\n",
      "Processing Record 5 of Set 3 : yulara\n",
      "Processing Record 6 of Set 3 : provideniya\n",
      "Processing Record 7 of Set 3 : coihaique\n",
      "Processing Record 8 of Set 3 : pombia\n",
      "Processing Record 9 of Set 3 : morehead\n",
      "Processing Record 10 of Set 3 : itoman\n",
      "Processing Record 11 of Set 3 : naze\n",
      "Processing Record 12 of Set 3 : nantucket\n",
      "Processing Record 13 of Set 3 : caravelas\n",
      "Processing Record 14 of Set 3 : luanda\n",
      "Processing Record 15 of Set 3 : nome\n",
      "Processing Record 16 of Set 3 : elesbao veloso\n",
      "City not found. Skipping...\n",
      "Processing Record 17 of Set 3 : makakilo city\n",
      "Processing Record 18 of Set 3 : riachao das neves\n",
      "City not found. Skipping...\n",
      "Processing Record 19 of Set 3 : ambilobe\n",
      "Processing Record 20 of Set 3 : klaksvik\n",
      "Processing Record 21 of Set 3 : tuatapere\n",
      "Processing Record 22 of Set 3 : diapaga\n",
      "City not found. Skipping...\n",
      "Processing Record 23 of Set 3 : edd\n",
      "Processing Record 24 of Set 3 : tarabuco\n",
      "Processing Record 25 of Set 3 : matadi\n",
      "Processing Record 26 of Set 3 : gafanha da encarnacao\n",
      "Processing Record 27 of Set 3 : wanning\n",
      "Processing Record 28 of Set 3 : narsaq\n",
      "Processing Record 29 of Set 3 : saryozek\n",
      "Processing Record 30 of Set 3 : avdon\n",
      "City not found. Skipping...\n",
      "Processing Record 31 of Set 3 : fort nelson\n",
      "Processing Record 32 of Set 3 : vostok\n",
      "City not found. Skipping...\n",
      "Processing Record 33 of Set 3 : kismayo\n",
      "Processing Record 34 of Set 3 : haines junction\n",
      "Processing Record 35 of Set 3 : burnie\n",
      "Processing Record 36 of Set 3 : luderitz\n",
      "Processing Record 37 of Set 3 : llata\n",
      "Processing Record 38 of Set 3 : porto walter\n",
      "Processing Record 39 of Set 3 : aksha\n",
      "City not found. Skipping...\n",
      "City not found. Skipping...\n",
      "Processing Record 40 of Set 3 : ribeira grande\n",
      "Processing Record 41 of Set 3 : nanortalik\n",
      "Processing Record 42 of Set 3 : mar del plata\n",
      "Processing Record 43 of Set 3 : shellbrook\n",
      "Processing Record 44 of Set 3 : aviles\n",
      "Processing Record 45 of Set 3 : victor harbor\n",
      "Processing Record 46 of Set 3 : bereda\n",
      "Processing Record 47 of Set 3 : souillac\n",
      "Processing Record 48 of Set 3 : castro\n",
      "Processing Record 49 of Set 3 : conceicao do araguaia\n",
      "Processing Record 50 of Set 3 : westport\n",
      "Processing Record 0 of Set 4 : olinda\n",
      "Processing Record 1 of Set 4 : lavrentiya\n",
      "Processing Record 2 of Set 4 : bud\n",
      "Processing Record 3 of Set 4 : jacareacanga\n",
      "Processing Record 4 of Set 4 : nuuk\n",
      "Processing Record 5 of Set 4 : royan\n",
      "Processing Record 6 of Set 4 : chuy\n",
      "Processing Record 7 of Set 4 : upernavik\n",
      "Processing Record 8 of Set 4 : kirksville\n",
      "Processing Record 9 of Set 4 : grand gaube\n",
      "Processing Record 10 of Set 4 : sibolga\n",
      "Processing Record 11 of Set 4 : kolno\n",
      "Processing Record 12 of Set 4 : bonthe\n",
      "Processing Record 13 of Set 4 : araouane\n",
      "Processing Record 14 of Set 4 : alipur\n",
      "Processing Record 15 of Set 4 : kieta\n",
      "Processing Record 16 of Set 4 : kirakira\n",
      "Processing Record 17 of Set 4 : la ronge\n",
      "Processing Record 18 of Set 4 : vila\n",
      "Processing Record 19 of Set 4 : bloomfield\n",
      "Processing Record 20 of Set 4 : bathsheba\n",
      "Processing Record 21 of Set 4 : kandrian\n",
      "Processing Record 22 of Set 4 : shitkino\n",
      "Processing Record 23 of Set 4 : chaman\n",
      "City not found. Skipping...\n",
      "City not found. Skipping...\n",
      "Processing Record 24 of Set 4 : tura\n",
      "Processing Record 25 of Set 4 : uva\n",
      "City not found. Skipping...\n",
      "Processing Record 26 of Set 4 : honiara\n",
      "Processing Record 27 of Set 4 : asau\n",
      "Processing Record 28 of Set 4 : kukuna\n",
      "Processing Record 29 of Set 4 : nykoping\n",
      "Processing Record 30 of Set 4 : coruripe\n",
      "Processing Record 31 of Set 4 : arraial do cabo\n"
     ]
    },
    {
     "name": "stdout",
     "output_type": "stream",
     "text": [
      "City not found. Skipping...\n",
      "Processing Record 32 of Set 4 : iquitos\n",
      "Processing Record 33 of Set 4 : tarko-sale\n",
      "Processing Record 34 of Set 4 : ligayan\n",
      "Processing Record 35 of Set 4 : aykhal\n",
      "Processing Record 36 of Set 4 : port hedland\n",
      "City not found. Skipping...\n",
      "Processing Record 37 of Set 4 : victoria\n",
      "Processing Record 38 of Set 4 : havre-saint-pierre\n",
      "Processing Record 39 of Set 4 : sabang\n",
      "Processing Record 40 of Set 4 : baoshan\n",
      "Processing Record 41 of Set 4 : makushino\n",
      "Processing Record 42 of Set 4 : rudnogorsk\n",
      "Processing Record 43 of Set 4 : ust-nera\n",
      "Processing Record 44 of Set 4 : ejido\n",
      "Processing Record 45 of Set 4 : sitka\n",
      "Processing Record 46 of Set 4 : ostersund\n",
      "Processing Record 47 of Set 4 : guantanamo\n",
      "Processing Record 48 of Set 4 : airai\n",
      "Processing Record 49 of Set 4 : yumen\n",
      "Processing Record 50 of Set 4 : talcahuano\n",
      "City not found. Skipping...\n",
      "Processing Record 0 of Set 5 : lebu\n",
      "Processing Record 1 of Set 5 : manadhoo\n",
      "Processing Record 2 of Set 5 : erzin\n",
      "Processing Record 3 of Set 5 : tefe\n",
      "Processing Record 4 of Set 5 : krutinka\n",
      "Processing Record 5 of Set 5 : santiago de cuba\n",
      "Processing Record 6 of Set 5 : codrington\n",
      "Processing Record 7 of Set 5 : eluru\n",
      "Processing Record 8 of Set 5 : mahibadhoo\n",
      "Processing Record 9 of Set 5 : beisfjord\n",
      "Processing Record 10 of Set 5 : pochutla\n",
      "City not found. Skipping...\n",
      "City not found. Skipping...\n",
      "Processing Record 11 of Set 5 : nadym\n",
      "Processing Record 12 of Set 5 : daru\n",
      "Processing Record 13 of Set 5 : abasolo\n",
      "Processing Record 14 of Set 5 : rakai\n",
      "Processing Record 15 of Set 5 : aden\n",
      "Processing Record 16 of Set 5 : torbay\n",
      "Processing Record 17 of Set 5 : galveston\n",
      "Processing Record 18 of Set 5 : puerto lleras\n",
      "Processing Record 19 of Set 5 : ciudad bolivar\n",
      "Processing Record 20 of Set 5 : marabba\n",
      "Processing Record 21 of Set 5 : gorom-gorom\n",
      "Processing Record 22 of Set 5 : stornoway\n",
      "Processing Record 23 of Set 5 : harnosand\n",
      "Processing Record 24 of Set 5 : batamshinskiy\n",
      "City not found. Skipping...\n",
      "Processing Record 25 of Set 5 : kalmunai\n",
      "Processing Record 26 of Set 5 : hovd\n",
      "Processing Record 27 of Set 5 : acapulco\n",
      "Processing Record 28 of Set 5 : mitsamiouli\n",
      "City not found. Skipping...\n",
      "Processing Record 29 of Set 5 : ha giang\n",
      "Processing Record 30 of Set 5 : alenquer\n",
      "Processing Record 31 of Set 5 : mogadishu\n",
      "Processing Record 32 of Set 5 : ahipara\n",
      "Processing Record 33 of Set 5 : cayenne\n",
      "Processing Record 34 of Set 5 : wagga wagga\n",
      "Processing Record 35 of Set 5 : kahului\n",
      "Processing Record 36 of Set 5 : xining\n",
      "Processing Record 37 of Set 5 : polunochnoye\n",
      "Processing Record 38 of Set 5 : tupelo\n",
      "City not found. Skipping...\n",
      "Processing Record 39 of Set 5 : saint-augustin\n",
      "Processing Record 40 of Set 5 : dukat\n",
      "Processing Record 41 of Set 5 : esperance\n",
      "Processing Record 42 of Set 5 : pronsk\n",
      "Processing Record 43 of Set 5 : creston\n",
      "Processing Record 44 of Set 5 : hammerfest\n",
      "Processing Record 45 of Set 5 : chara\n",
      "Processing Record 46 of Set 5 : oranjemund\n",
      "Processing Record 47 of Set 5 : bundaberg\n",
      "Processing Record 48 of Set 5 : yambio\n",
      "Processing Record 49 of Set 5 : shingu\n",
      "Processing Record 50 of Set 5 : maanshan\n",
      "Processing Record 0 of Set 6 : mahebourg\n",
      "Processing Record 1 of Set 6 : coquimbo\n",
      "Processing Record 2 of Set 6 : dikson\n",
      "Processing Record 3 of Set 6 : lompoc\n",
      "Processing Record 4 of Set 6 : lagoa\n",
      "City not found. Skipping...\n",
      "City not found. Skipping...\n",
      "Processing Record 5 of Set 6 : talaya\n",
      "Processing Record 6 of Set 6 : murgeni\n",
      "Processing Record 7 of Set 6 : phibun mangsahan\n",
      "Processing Record 8 of Set 6 : kupang\n",
      "Processing Record 9 of Set 6 : sorong\n",
      "Processing Record 10 of Set 6 : marrakesh\n",
      "Processing Record 11 of Set 6 : aklavik\n",
      "Processing Record 12 of Set 6 : jatai\n",
      "Processing Record 13 of Set 6 : vao\n",
      "City not found. Skipping...\n",
      "Processing Record 14 of Set 6 : forestville\n",
      "Processing Record 15 of Set 6 : arlit\n",
      "Processing Record 16 of Set 6 : morro bay\n",
      "Processing Record 17 of Set 6 : akureyri\n",
      "Processing Record 18 of Set 6 : semey\n",
      "Processing Record 19 of Set 6 : tangua\n",
      "Processing Record 20 of Set 6 : palmer\n",
      "Processing Record 21 of Set 6 : dnestrovsc\n",
      "Processing Record 22 of Set 6 : kimbe\n",
      "Processing Record 23 of Set 6 : walvis bay\n",
      "Processing Record 24 of Set 6 : bubaque\n",
      "Processing Record 25 of Set 6 : puerto baquerizo moreno\n",
      "Processing Record 26 of Set 6 : touros\n",
      "City not found. Skipping...\n",
      "Processing Record 27 of Set 6 : kijang\n",
      "Processing Record 28 of Set 6 : avera\n",
      "Processing Record 29 of Set 6 : hearst\n",
      "Processing Record 30 of Set 6 : mawlaik\n",
      "Processing Record 31 of Set 6 : grindavik\n",
      "Processing Record 32 of Set 6 : santiago del estero\n",
      "Processing Record 33 of Set 6 : macklin\n",
      "Processing Record 34 of Set 6 : anadyr\n",
      "Processing Record 35 of Set 6 : whitianga\n",
      "City not found. Skipping...\n",
      "Processing Record 36 of Set 6 : suslonger\n",
      "Processing Record 37 of Set 6 : santa cruz del sur\n",
      "Processing Record 38 of Set 6 : neyshabur\n",
      "Processing Record 39 of Set 6 : eyl\n",
      "Processing Record 40 of Set 6 : bantry\n",
      "Processing Record 41 of Set 6 : santa fe\n",
      "Processing Record 42 of Set 6 : talnakh\n",
      "Processing Record 43 of Set 6 : tautira\n",
      "Processing Record 44 of Set 6 : faanui\n",
      "Processing Record 45 of Set 6 : alexandria\n",
      "Processing Record 46 of Set 6 : thurso\n",
      "Processing Record 47 of Set 6 : durban\n",
      "Processing Record 48 of Set 6 : leningradskiy\n",
      "Processing Record 49 of Set 6 : batemans bay\n",
      "Processing Record 50 of Set 6 : rockhampton\n",
      "Processing Record 0 of Set 7 : aranos\n",
      "Processing Record 1 of Set 7 : monterey\n",
      "Processing Record 2 of Set 7 : angoche\n",
      "Processing Record 3 of Set 7 : smithers\n",
      "City not found. Skipping...\n",
      "Processing Record 4 of Set 7 : mecca\n",
      "Processing Record 5 of Set 7 : isangel\n",
      "Processing Record 6 of Set 7 : yermakovskoye\n",
      "Processing Record 7 of Set 7 : kangaatsiaq\n",
      "Processing Record 8 of Set 7 : kungurtug\n",
      "Processing Record 9 of Set 7 : petatlan\n",
      "Processing Record 10 of Set 7 : vila velha\n",
      "Processing Record 11 of Set 7 : davila\n",
      "Processing Record 12 of Set 7 : sept-iles\n",
      "Processing Record 13 of Set 7 : pokaran\n",
      "City not found. Skipping...\n",
      "City not found. Skipping...\n",
      "Processing Record 14 of Set 7 : healdsburg\n",
      "Processing Record 15 of Set 7 : pevek\n",
      "Processing Record 16 of Set 7 : hofn\n",
      "Processing Record 17 of Set 7 : saint george\n",
      "Processing Record 18 of Set 7 : polson\n",
      "Processing Record 19 of Set 7 : greeneville\n",
      "Processing Record 20 of Set 7 : olafsvik\n",
      "Processing Record 21 of Set 7 : porto novo\n",
      "Processing Record 22 of Set 7 : vestmannaeyjar\n",
      "Processing Record 23 of Set 7 : pangnirtung\n",
      "City not found. Skipping...\n",
      "Processing Record 24 of Set 7 : huejuquilla el alto\n",
      "City not found. Skipping...\n",
      "Processing Record 25 of Set 7 : biak\n",
      "Processing Record 26 of Set 7 : galle\n",
      "Processing Record 27 of Set 7 : port shepstone\n",
      "Processing Record 28 of Set 7 : zhezkazgan\n",
      "Processing Record 29 of Set 7 : hastings\n",
      "Processing Record 30 of Set 7 : barguzin\n",
      "Processing Record 31 of Set 7 : tyubuk\n",
      "City not found. Skipping...\n",
      "City not found. Skipping...\n",
      "Processing Record 32 of Set 7 : chimbote\n",
      "City not found. Skipping...\n",
      "Processing Record 33 of Set 7 : sobolevo\n",
      "Processing Record 34 of Set 7 : redlands\n",
      "Processing Record 35 of Set 7 : ushumun\n",
      "Processing Record 36 of Set 7 : riohacha\n",
      "Processing Record 37 of Set 7 : saurimo\n",
      "Processing Record 38 of Set 7 : derzhavinsk\n",
      "Processing Record 39 of Set 7 : bourail\n",
      "Processing Record 40 of Set 7 : esso\n",
      "Processing Record 41 of Set 7 : jardim\n",
      "Processing Record 42 of Set 7 : khorinsk\n",
      "Processing Record 43 of Set 7 : santa cruz cabralia\n",
      "Processing Record 44 of Set 7 : clyde river\n",
      "Processing Record 45 of Set 7 : langsa\n",
      "Processing Record 46 of Set 7 : floriano\n",
      "City not found. Skipping...\n",
      "Processing Record 47 of Set 7 : pisco\n",
      "Processing Record 48 of Set 7 : te anau\n",
      "Processing Record 49 of Set 7 : ostrovnoy\n",
      "City not found. Skipping...\n",
      "Processing Record 50 of Set 7 : meulaboh\n",
      "Processing Record 0 of Set 8 : tual\n",
      "Processing Record 1 of Set 8 : sombrio\n",
      "Processing Record 2 of Set 8 : sistranda\n",
      "Processing Record 3 of Set 8 : fairbanks\n",
      "Processing Record 4 of Set 8 : taitung\n",
      "Processing Record 5 of Set 8 : port lincoln\n",
      "Processing Record 6 of Set 8 : bosaso\n",
      "Processing Record 7 of Set 8 : ust-maya\n",
      "Processing Record 8 of Set 8 : burns lake\n",
      "Processing Record 9 of Set 8 : raton\n",
      "Processing Record 10 of Set 8 : chincholi\n",
      "Processing Record 11 of Set 8 : kapit\n",
      "City not found. Skipping...\n"
     ]
    },
    {
     "name": "stdout",
     "output_type": "stream",
     "text": [
      "Processing Record 12 of Set 8 : dunedin\n",
      "Processing Record 13 of Set 8 : svetlaya\n",
      "Processing Record 14 of Set 8 : necochea\n",
      "City not found. Skipping...\n",
      "Processing Record 15 of Set 8 : prince rupert\n",
      "Processing Record 16 of Set 8 : zemio\n",
      "Processing Record 17 of Set 8 : urucara\n",
      "Processing Record 18 of Set 8 : port blair\n",
      "Processing Record 19 of Set 8 : constitucion\n",
      "Processing Record 20 of Set 8 : vengerovo\n",
      "Processing Record 21 of Set 8 : sangar\n",
      "Processing Record 22 of Set 8 : maniitsoq\n",
      "Processing Record 23 of Set 8 : narasannapeta\n",
      "Processing Record 24 of Set 8 : freeport\n",
      "Processing Record 25 of Set 8 : marsaxlokk\n",
      "Processing Record 26 of Set 8 : deputatskiy\n",
      "City not found. Skipping...\n",
      "Processing Record 27 of Set 8 : saint-leu\n",
      "Processing Record 28 of Set 8 : sonepur\n",
      "Processing Record 29 of Set 8 : lima\n",
      "Processing Record 30 of Set 8 : puri\n",
      "Processing Record 31 of Set 8 : florence\n",
      "Processing Record 32 of Set 8 : hami\n",
      "Processing Record 33 of Set 8 : channel-port aux basques\n",
      "Processing Record 34 of Set 8 : cedar city\n",
      "Processing Record 35 of Set 8 : chino valley\n",
      "Processing Record 36 of Set 8 : mitu\n",
      "Processing Record 37 of Set 8 : kissidougou\n",
      "Processing Record 38 of Set 8 : uspenka\n",
      "Processing Record 39 of Set 8 : los llanos de aridane\n",
      "Processing Record 40 of Set 8 : barmer\n",
      "Processing Record 41 of Set 8 : rawson\n",
      "Processing Record 42 of Set 8 : houma\n",
      "Processing Record 43 of Set 8 : santa cruz de tenerife\n",
      "Processing Record 44 of Set 8 : waipawa\n",
      "Processing Record 45 of Set 8 : skibbereen\n",
      "Processing Record 46 of Set 8 : ritchie\n",
      "Processing Record 47 of Set 8 : kharp\n",
      "Processing Record 48 of Set 8 : eureka\n",
      "Processing Record 49 of Set 8 : iquique\n",
      "Processing Record 50 of Set 8 : byron bay\n",
      "Processing Record 0 of Set 9 : halifax\n",
      "Processing Record 1 of Set 9 : nichinan\n",
      "Processing Record 2 of Set 9 : vulcanesti\n",
      "Processing Record 3 of Set 9 : ancud\n",
      "Processing Record 4 of Set 9 : kavieng\n",
      "Processing Record 5 of Set 9 : alyangula\n",
      "Processing Record 6 of Set 9 : kommunar\n",
      "Processing Record 7 of Set 9 : gimli\n",
      "Processing Record 8 of Set 9 : ruidoso\n",
      "Processing Record 9 of Set 9 : atasu\n",
      "City not found. Skipping...\n",
      "Processing Record 10 of Set 9 : nimes\n",
      "Processing Record 11 of Set 9 : atar\n",
      "Processing Record 12 of Set 9 : tala\n",
      "Processing Record 13 of Set 9 : batagay-alyta\n",
      "Processing Record 14 of Set 9 : sur\n",
      "Processing Record 15 of Set 9 : fortuna\n",
      "Processing Record 16 of Set 9 : berlevag\n",
      "Processing Record 17 of Set 9 : srandakan\n",
      "Processing Record 18 of Set 9 : laramie\n",
      "Processing Record 19 of Set 9 : sechura\n",
      "Processing Record 20 of Set 9 : bara\n",
      "Processing Record 21 of Set 9 : salinopolis\n",
      "Processing Record 22 of Set 9 : college\n",
      "Processing Record 23 of Set 9 : bakchar\n",
      "Processing Record 24 of Set 9 : san policarpo\n",
      "Processing Record 25 of Set 9 : praia\n",
      "Processing Record 26 of Set 9 : cururupu\n",
      "Processing Record 27 of Set 9 : swissvale\n",
      "Processing Record 28 of Set 9 : macau\n",
      "Processing Record 29 of Set 9 : poum\n",
      "Processing Record 30 of Set 9 : la crosse\n",
      "City not found. Skipping...\n",
      "Processing Record 31 of Set 9 : kashi\n",
      "Processing Record 32 of Set 9 : moose factory\n",
      "Processing Record 33 of Set 9 : tirumullaivasal\n",
      "Processing Record 34 of Set 9 : quatre cocos\n",
      "City not found. Skipping...\n",
      "Processing Record 35 of Set 9 : bonaventure\n",
      "Processing Record 36 of Set 9 : troitskoye\n",
      "Processing Record 37 of Set 9 : sinnamary\n",
      "Processing Record 38 of Set 9 : mount isa\n",
      "Processing Record 39 of Set 9 : manokwari\n",
      "Processing Record 40 of Set 9 : beringovskiy\n",
      "Processing Record 41 of Set 9 : hambantota\n",
      "Processing Record 42 of Set 9 : kenai\n",
      "Processing Record 43 of Set 9 : lebanon\n",
      "Processing Record 44 of Set 9 : carutapera\n",
      "Processing Record 45 of Set 9 : adrar\n",
      "Processing Record 46 of Set 9 : novyy urengoy\n",
      "Processing Record 47 of Set 9 : general roca\n",
      "Processing Record 48 of Set 9 : kjollefjord\n",
      "Processing Record 49 of Set 9 : nerchinskiy zavod\n",
      "Processing Record 50 of Set 9 : muros\n",
      "City not found. Skipping...\n",
      "Processing Record 0 of Set 10 : cristalina\n",
      "Processing Record 1 of Set 10 : northam\n",
      "Processing Record 2 of Set 10 : palimbang\n",
      "Processing Record 3 of Set 10 : obo\n",
      "Processing Record 4 of Set 10 : kallidaikurichchi\n",
      "Processing Record 5 of Set 10 : gat\n",
      "Processing Record 6 of Set 10 : lianran\n",
      "Processing Record 7 of Set 10 : coronado\n",
      "Processing Record 8 of Set 10 : nalut\n",
      "City not found. Skipping...\n",
      "Processing Record 9 of Set 10 : ouargaye\n",
      "Processing Record 10 of Set 10 : togul\n",
      "Processing Record 11 of Set 10 : raudeberg\n",
      "Processing Record 12 of Set 10 : tigil\n",
      "Processing Record 13 of Set 10 : verkhoyansk\n",
      "Processing Record 14 of Set 10 : jose de freitas\n",
      "Processing Record 15 of Set 10 : andenes\n",
      "Processing Record 16 of Set 10 : mnogovershinnyy\n",
      "City not found. Skipping...\n",
      "Processing Record 17 of Set 10 : kavaratti\n",
      "Processing Record 18 of Set 10 : sitionuevo\n",
      "Processing Record 19 of Set 10 : hervey bay\n",
      "Processing Record 20 of Set 10 : lasa\n",
      "Processing Record 21 of Set 10 : nizhniy tsasuchey\n",
      "Processing Record 22 of Set 10 : upington\n",
      "Processing Record 23 of Set 10 : okhotsk\n",
      "Processing Record 24 of Set 10 : manggar\n",
      "Processing Record 25 of Set 10 : ocala\n",
      "Processing Record 26 of Set 10 : alugan\n",
      "Processing Record 27 of Set 10 : nacozari\n",
      "Processing Record 28 of Set 10 : mehamn\n",
      "Processing Record 29 of Set 10 : bushehr\n",
      "City not found. Skipping...\n",
      "Processing Record 30 of Set 10 : balakhta\n",
      "Processing Record 31 of Set 10 : flinders\n",
      "Processing Record 32 of Set 10 : sangueya\n",
      "Processing Record 33 of Set 10 : khasan\n",
      "Processing Record 34 of Set 10 : orlik\n",
      "Processing Record 35 of Set 10 : meridian\n",
      "Processing Record 36 of Set 10 : umm kaddadah\n",
      "Processing Record 37 of Set 10 : tieli\n",
      "Processing Record 38 of Set 10 : trois-rivieres\n",
      "City not found. Skipping...\n",
      "Processing Record 39 of Set 10 : corinto\n",
      "Processing Record 40 of Set 10 : richards bay\n",
      "Processing Record 41 of Set 10 : graulhet\n",
      "Processing Record 42 of Set 10 : otradnyy\n",
      "Processing Record 43 of Set 10 : darhan\n",
      "Processing Record 44 of Set 10 : ginir\n",
      "Processing Record 45 of Set 10 : dudinka\n",
      "Processing Record 46 of Set 10 : mayo\n",
      "Processing Record 47 of Set 10 : xudat\n",
      "Processing Record 48 of Set 10 : mashhad\n",
      "Processing Record 49 of Set 10 : aquiraz\n",
      "Processing Record 50 of Set 10 : ratanpur\n",
      "Processing Record 0 of Set 11 : half moon bay\n",
      "Processing Record 1 of Set 11 : krasnoselkup\n",
      "Processing Record 2 of Set 11 : borba\n",
      "Processing Record 3 of Set 11 : edirne\n",
      "Processing Record 4 of Set 11 : camacha\n",
      "Processing Record 5 of Set 11 : sikonge\n",
      "Processing Record 6 of Set 11 : chumphon\n",
      "Processing Record 7 of Set 11 : jorochito\n",
      "Processing Record 8 of Set 11 : itarema\n",
      "Processing Record 9 of Set 11 : haveri\n",
      "Processing Record 10 of Set 11 : kruisfontein\n",
      "Processing Record 11 of Set 11 : buba\n",
      "Processing Record 12 of Set 11 : fayetteville\n",
      "Processing Record 13 of Set 11 : kotovo\n",
      "City not found. Skipping...\n",
      "Processing Record 14 of Set 11 : jilin\n",
      "Processing Record 15 of Set 11 : ucluelet\n",
      "City not found. Skipping...\n",
      "Processing Record 16 of Set 11 : bagdarin\n",
      "Processing Record 17 of Set 11 : yangambi\n",
      "Processing Record 18 of Set 11 : palghar\n",
      "Processing Record 19 of Set 11 : samarai\n",
      "Processing Record 20 of Set 11 : belyy\n",
      "Processing Record 21 of Set 11 : sola\n",
      "Processing Record 22 of Set 11 : fayaoue\n",
      "Processing Record 23 of Set 11 : seddon\n",
      "Processing Record 24 of Set 11 : lorengau\n",
      "Processing Record 25 of Set 11 : lokosovo\n",
      "Processing Record 26 of Set 11 : north bend\n",
      "Processing Record 27 of Set 11 : kontagora\n",
      "Processing Record 28 of Set 11 : blackfoot\n",
      "City not found. Skipping...\n",
      "Processing Record 29 of Set 11 : great falls\n",
      "Processing Record 30 of Set 11 : shizuishan\n",
      "City not found. Skipping...\n",
      "Processing Record 31 of Set 11 : muhos\n",
      "Processing Record 32 of Set 11 : rio gallegos\n",
      "-----------------------------\n",
      "Data Retrieval Complete\n",
      "-----------------------------\n"
     ]
    }
   ],
   "source": [
    "city_name_list = []\n",
    "cloudiness_list = []\n",
    "country_list = []\n",
    "date_list = []\n",
    "humidity_list = []\n",
    "lat_list = []\n",
    "lng_list = []\n",
    "max_temp_list = []\n",
    "wind_speed_list = []\n",
    "index_counter = 0\n",
    "set_counter = 1\n",
    "\n",
    "\n",
    "\n",
    "print(\"Beginning Data Retrieval \")\n",
    "print(\"-----------------------------\")\n",
    "\n",
    "base_url = \"http://api.openweathermap.org/data/2.5/weather?\"\n",
    "units = \"imperial\"\n",
    "query_url = f\"{base_url}appid={weather_api_key}&units={units}&q=\"\n",
    "\n",
    "\n",
    "# For each city name in cities list, do below things...\n",
    "for index, city in enumerate(cities, start = 1):\n",
    "    try:\n",
    "        response = requests.get(query_url + city).json()\n",
    "        city_name_list.append(response[\"name\"])\n",
    "        cloudiness_list.append(response[\"clouds\"][\"all\"])\n",
    "        country_list.append(response[\"sys\"][\"country\"])\n",
    "        date_list.append(response[\"dt\"])\n",
    "        humidity_list.append(response[\"main\"][\"humidity\"])\n",
    "        lat_list.append(response[\"coord\"][\"lat\"])\n",
    "        lng_list.append(response[\"coord\"][\"lon\"])\n",
    "        max_temp_list.append(response['main']['temp_max'])\n",
    "        wind_speed_list.append(response[\"wind\"][\"speed\"])\n",
    "        if index_counter > 49:\n",
    "            index_counter = 0\n",
    "            set_counter = set_counter + 1\n",
    "    \n",
    "        else:\n",
    "            index_counter = index_counter + 1\n",
    "            \n",
    "        print(f\"Processing Record {index_counter} of Set {set_counter} : {city}\") \n",
    "  \n",
    "    except(KeyError, IndexError):\n",
    "        print(\"City not found. Skipping...\")\n",
    "\n",
    "print(\"-----------------------------\")\n",
    "print(\"Data Retrieval Complete\")\n",
    "print(\"-----------------------------\")"
   ]
  },
  {
   "cell_type": "markdown",
   "metadata": {},
   "source": [
    "### Convert Raw Data to DataFrame\n",
    "* Export the city data into a .csv.\n",
    "* Display the DataFrame"
   ]
  },
  {
   "cell_type": "code",
   "execution_count": 6,
   "metadata": {},
   "outputs": [
    {
     "data": {
      "text/html": [
       "<div>\n",
       "<style scoped>\n",
       "    .dataframe tbody tr th:only-of-type {\n",
       "        vertical-align: middle;\n",
       "    }\n",
       "\n",
       "    .dataframe tbody tr th {\n",
       "        vertical-align: top;\n",
       "    }\n",
       "\n",
       "    .dataframe thead th {\n",
       "        text-align: right;\n",
       "    }\n",
       "</style>\n",
       "<table border=\"1\" class=\"dataframe\">\n",
       "  <thead>\n",
       "    <tr style=\"text-align: right;\">\n",
       "      <th></th>\n",
       "      <th>City</th>\n",
       "      <th>Cloudiness</th>\n",
       "      <th>Country</th>\n",
       "      <th>Date</th>\n",
       "      <th>Humidity</th>\n",
       "      <th>Lat</th>\n",
       "      <th>Longitude</th>\n",
       "      <th>Max Temp</th>\n",
       "      <th>Wind Speed</th>\n",
       "    </tr>\n",
       "  </thead>\n",
       "  <tbody>\n",
       "    <tr>\n",
       "      <th>0</th>\n",
       "      <td>Tasiilaq</td>\n",
       "      <td>40</td>\n",
       "      <td>GL</td>\n",
       "      <td>1619324101</td>\n",
       "      <td>60</td>\n",
       "      <td>65.6145</td>\n",
       "      <td>-37.6368</td>\n",
       "      <td>41.00</td>\n",
       "      <td>13.80</td>\n",
       "    </tr>\n",
       "    <tr>\n",
       "      <th>1</th>\n",
       "      <td>Thompson</td>\n",
       "      <td>75</td>\n",
       "      <td>CA</td>\n",
       "      <td>1619324111</td>\n",
       "      <td>54</td>\n",
       "      <td>55.7435</td>\n",
       "      <td>-97.8558</td>\n",
       "      <td>24.80</td>\n",
       "      <td>3.44</td>\n",
       "    </tr>\n",
       "    <tr>\n",
       "      <th>2</th>\n",
       "      <td>Mataura</td>\n",
       "      <td>34</td>\n",
       "      <td>NZ</td>\n",
       "      <td>1619324250</td>\n",
       "      <td>74</td>\n",
       "      <td>-46.1927</td>\n",
       "      <td>168.8643</td>\n",
       "      <td>46.99</td>\n",
       "      <td>10.00</td>\n",
       "    </tr>\n",
       "    <tr>\n",
       "      <th>3</th>\n",
       "      <td>San Patricio</td>\n",
       "      <td>1</td>\n",
       "      <td>US</td>\n",
       "      <td>1619324256</td>\n",
       "      <td>64</td>\n",
       "      <td>28.0170</td>\n",
       "      <td>-97.5169</td>\n",
       "      <td>77.00</td>\n",
       "      <td>11.50</td>\n",
       "    </tr>\n",
       "    <tr>\n",
       "      <th>4</th>\n",
       "      <td>Yellowknife</td>\n",
       "      <td>20</td>\n",
       "      <td>CA</td>\n",
       "      <td>1619324074</td>\n",
       "      <td>57</td>\n",
       "      <td>62.4560</td>\n",
       "      <td>-114.3525</td>\n",
       "      <td>15.01</td>\n",
       "      <td>12.66</td>\n",
       "    </tr>\n",
       "    <tr>\n",
       "      <th>...</th>\n",
       "      <td>...</td>\n",
       "      <td>...</td>\n",
       "      <td>...</td>\n",
       "      <td>...</td>\n",
       "      <td>...</td>\n",
       "      <td>...</td>\n",
       "      <td>...</td>\n",
       "      <td>...</td>\n",
       "      <td>...</td>\n",
       "    </tr>\n",
       "    <tr>\n",
       "      <th>537</th>\n",
       "      <td>Blackfoot</td>\n",
       "      <td>97</td>\n",
       "      <td>US</td>\n",
       "      <td>1619324746</td>\n",
       "      <td>75</td>\n",
       "      <td>43.1905</td>\n",
       "      <td>-112.3450</td>\n",
       "      <td>48.00</td>\n",
       "      <td>7.00</td>\n",
       "    </tr>\n",
       "    <tr>\n",
       "      <th>538</th>\n",
       "      <td>Great Falls</td>\n",
       "      <td>90</td>\n",
       "      <td>US</td>\n",
       "      <td>1619324747</td>\n",
       "      <td>93</td>\n",
       "      <td>47.5002</td>\n",
       "      <td>-111.3008</td>\n",
       "      <td>36.00</td>\n",
       "      <td>8.05</td>\n",
       "    </tr>\n",
       "    <tr>\n",
       "      <th>539</th>\n",
       "      <td>Shizuishan</td>\n",
       "      <td>36</td>\n",
       "      <td>CN</td>\n",
       "      <td>1619324748</td>\n",
       "      <td>31</td>\n",
       "      <td>39.2333</td>\n",
       "      <td>106.7694</td>\n",
       "      <td>57.87</td>\n",
       "      <td>4.54</td>\n",
       "    </tr>\n",
       "    <tr>\n",
       "      <th>540</th>\n",
       "      <td>Muhos</td>\n",
       "      <td>75</td>\n",
       "      <td>FI</td>\n",
       "      <td>1619324748</td>\n",
       "      <td>75</td>\n",
       "      <td>64.8080</td>\n",
       "      <td>25.9931</td>\n",
       "      <td>35.60</td>\n",
       "      <td>12.66</td>\n",
       "    </tr>\n",
       "    <tr>\n",
       "      <th>541</th>\n",
       "      <td>Río Gallegos</td>\n",
       "      <td>0</td>\n",
       "      <td>AR</td>\n",
       "      <td>1619324624</td>\n",
       "      <td>87</td>\n",
       "      <td>-51.6226</td>\n",
       "      <td>-69.2181</td>\n",
       "      <td>37.40</td>\n",
       "      <td>2.30</td>\n",
       "    </tr>\n",
       "  </tbody>\n",
       "</table>\n",
       "<p>542 rows × 9 columns</p>\n",
       "</div>"
      ],
      "text/plain": [
       "             City  Cloudiness Country        Date  Humidity      Lat  \\\n",
       "0        Tasiilaq          40      GL  1619324101        60  65.6145   \n",
       "1        Thompson          75      CA  1619324111        54  55.7435   \n",
       "2         Mataura          34      NZ  1619324250        74 -46.1927   \n",
       "3    San Patricio           1      US  1619324256        64  28.0170   \n",
       "4     Yellowknife          20      CA  1619324074        57  62.4560   \n",
       "..            ...         ...     ...         ...       ...      ...   \n",
       "537     Blackfoot          97      US  1619324746        75  43.1905   \n",
       "538   Great Falls          90      US  1619324747        93  47.5002   \n",
       "539    Shizuishan          36      CN  1619324748        31  39.2333   \n",
       "540         Muhos          75      FI  1619324748        75  64.8080   \n",
       "541  Río Gallegos           0      AR  1619324624        87 -51.6226   \n",
       "\n",
       "     Longitude  Max Temp  Wind Speed  \n",
       "0     -37.6368     41.00       13.80  \n",
       "1     -97.8558     24.80        3.44  \n",
       "2     168.8643     46.99       10.00  \n",
       "3     -97.5169     77.00       11.50  \n",
       "4    -114.3525     15.01       12.66  \n",
       "..         ...       ...         ...  \n",
       "537  -112.3450     48.00        7.00  \n",
       "538  -111.3008     36.00        8.05  \n",
       "539   106.7694     57.87        4.54  \n",
       "540    25.9931     35.60       12.66  \n",
       "541   -69.2181     37.40        2.30  \n",
       "\n",
       "[542 rows x 9 columns]"
      ]
     },
     "execution_count": 6,
     "metadata": {},
     "output_type": "execute_result"
    }
   ],
   "source": [
    "# Create a datamframe \n",
    "weather_df = pd.DataFrame({ \n",
    "                \"City\" : city_name_list,\n",
    "                \"Cloudiness\" : cloudiness_list,\n",
    "                \"Country\" : country_list,\n",
    "                \"Date\" : date_list,\n",
    "                \"Humidity\" : humidity_list,\n",
    "                \"Lat\" : lat_list,\n",
    "                \"Longitude\" : lng_list,\n",
    "                \"Max Temp\" : max_temp_list,\n",
    "                \"Wind Speed\" : wind_speed_list\n",
    "})\n",
    "weather_df"
   ]
  },
  {
   "cell_type": "code",
   "execution_count": null,
   "metadata": {},
   "outputs": [],
   "source": [
    "weather_df.to_csv(r\"C:\\Users\\kndrs\\Python-Api-Challenge\\Weather Py\\cities.csv\", index = False, header = True)"
   ]
  },
  {
   "cell_type": "code",
   "execution_count": null,
   "metadata": {},
   "outputs": [],
   "source": []
  },
  {
   "cell_type": "markdown",
   "metadata": {},
   "source": [
    "## Inspect the data and remove the cities where the humidity > 100%.\n",
    "----\n",
    "Skip this step if there are no cities that have humidity > 100%. "
   ]
  },
  {
   "cell_type": "markdown",
   "metadata": {},
   "source": [
    "From the above table, no cities showed a humidity greater than 100"
   ]
  },
  {
   "cell_type": "code",
   "execution_count": null,
   "metadata": {},
   "outputs": [],
   "source": [
    "#  Get the indices of cities that have humidity over 100%.\n"
   ]
  },
  {
   "cell_type": "code",
   "execution_count": null,
   "metadata": {},
   "outputs": [],
   "source": [
    "# Make a new DataFrame equal to the city data to drop all humidity outliers by index.\n",
    "# Passing \"inplace=False\" will make a copy of the city_data DataFrame, which we call \"clean_city_data\".\n"
   ]
  },
  {
   "cell_type": "code",
   "execution_count": null,
   "metadata": {},
   "outputs": [],
   "source": [
    "\n"
   ]
  },
  {
   "cell_type": "markdown",
   "metadata": {},
   "source": [
    "## Plotting the Data\n",
    "* Use proper labeling of the plots using plot titles (including date of analysis) and axes labels.\n",
    "* Save the plotted figures as .pngs."
   ]
  },
  {
   "cell_type": "markdown",
   "metadata": {},
   "source": [
    "## Latitude vs. Temperature Plot"
   ]
  },
  {
   "cell_type": "code",
   "execution_count": 7,
   "metadata": {
    "scrolled": true
   },
   "outputs": [
    {
     "data": {
      "image/png": "[encoded data removed]",
      "text/plain": [
       "<Figure size 432x288 with 1 Axes>"
      ]
     },
     "metadata": {
      "needs_background": "light"
     },
     "output_type": "display_data"
    }
   ],
   "source": [
    "#Create Latitude v Temperature Scatter Plot\n",
    "plt.scatter(weather_df[\"Lat\"], weather_df[\"Max Temp\"],edgecolor = \"black\",facecolor = \"blue\" )\n",
    "\n",
    "#x axis \n",
    "plt.xlabel(\"Latitude\")\n",
    "\n",
    "#Y axis \n",
    "plt.ylabel(\"Max Temperature (F)\")\n",
    "\n",
    "#Title\n",
    "plt.title(\"City Latitude vs Temperature\")\n",
    "\n",
    "#Save the plotted figure as png \n",
    "plt.savefig(r\"C:\\Users\\kndrs\\Python-Api-Challenge\\Weather Py\\City Latitude vs Max Temperature.png\")"
   ]
  },
  {
   "cell_type": "markdown",
   "metadata": {},
   "source": [
    "The scatter plot shows the highest temperature is located at 0 latitude"
   ]
  },
  {
   "cell_type": "markdown",
   "metadata": {},
   "source": [
    "## Latitude vs. Humidity Plot"
   ]
  },
  {
   "cell_type": "code",
   "execution_count": 8,
   "metadata": {},
   "outputs": [
    {
     "data": {
      "image/png": "[encoded data removed]",
      "text/plain": [
       "<Figure size 432x288 with 1 Axes>"
      ]
     },
     "metadata": {
      "needs_background": "light"
     },
     "output_type": "display_data"
    }
   ],
   "source": [
    "#Create Latitude v Humidity Scatter Plot\n",
    "plt.scatter(weather_df[\"Lat\"], weather_df[\"Humidity\"],edgecolor = \"black\",facecolor = \"blue\" )\n",
    "\n",
    "#x axis \n",
    "plt.xlabel(\"Latitude\")\n",
    "\n",
    "#Y axis \n",
    "plt.ylabel(\"Humidity%\")\n",
    "\n",
    "#Title\n",
    "plt.title(\"City Latitude vs Humidity%\")\n",
    "\n",
    "#Save the plotted figure as png \n",
    "plt.savefig(r\"C:\\Users\\kndrs\\Python-Api-Challenge\\Weather Py\\Latitude v Humidity.png\")"
   ]
  },
  {
   "cell_type": "markdown",
   "metadata": {},
   "source": [
    "The plot does not really show a correlation between latitude and humidity "
   ]
  },
  {
   "cell_type": "markdown",
   "metadata": {},
   "source": [
    "## Latitude vs. Cloudiness Plot"
   ]
  },
  {
   "cell_type": "code",
   "execution_count": 9,
   "metadata": {},
   "outputs": [
    {
     "data": {
      "image/png": "[encoded data removed]",
      "text/plain": [
       "<Figure size 432x288 with 1 Axes>"
      ]
     },
     "metadata": {
      "needs_background": "light"
     },
     "output_type": "display_data"
    }
   ],
   "source": [
    "#Create Latitude v Cloudiness Scatter Plot\n",
    "plt.scatter(weather_df[\"Lat\"], weather_df[\"Cloudiness\"],edgecolor = \"black\",facecolor = \"blue\" )\n",
    "\n",
    "#x axis \n",
    "plt.xlabel(\"Latitude\")\n",
    "\n",
    "#Y axis \n",
    "plt.ylabel(\"Cloudiness\")\n",
    "\n",
    "#Title\n",
    "plt.title(\"City Latitude vs Cloudiness\")\n",
    "\n",
    "\n",
    "plt.savefig(r\"C:\\Users\\kndrs\\Python-Api-Challenge\\Weather Py\\Latitude v Cloudiness.png\")"
   ]
  },
  {
   "cell_type": "markdown",
   "metadata": {},
   "source": [
    "The scatterplot does not really show a correlation between cloudiness and latttiude "
   ]
  },
  {
   "cell_type": "markdown",
   "metadata": {},
   "source": [
    "## Latitude vs. Wind Speed Plot"
   ]
  },
  {
   "cell_type": "code",
   "execution_count": 10,
   "metadata": {},
   "outputs": [
    {
     "data": {
      "image/png": "[encoded data removed]",
      "text/plain": [
       "<Figure size 432x288 with 1 Axes>"
      ]
     },
     "metadata": {
      "needs_background": "light"
     },
     "output_type": "display_data"
    }
   ],
   "source": [
    "#Create Latitude v Cloudiness Scatter Plot\n",
    "plt.scatter(weather_df[\"Lat\"], weather_df[\"Wind Speed\"],edgecolor = \"black\",facecolor = \"blue\" )\n",
    "\n",
    "#x axis \n",
    "plt.xlabel(\"Latitude\")\n",
    "\n",
    "#Y axis \n",
    "plt.ylabel(\"Wind Speed (mph)\")\n",
    "\n",
    "#Title\n",
    "plt.title(\"City Latitude vs Wind Speed\")\n",
    "\n",
    "\n",
    "plt.savefig(r\"C:\\Users\\kndrs\\Python-Api-Challenge\\Weather Py\\Latitude v Wind Speed.png\")"
   ]
  },
  {
   "cell_type": "code",
   "execution_count": null,
   "metadata": {},
   "outputs": [],
   "source": [
    "The plot shows the average wind speed seems to be around "
   ]
  },
  {
   "cell_type": "markdown",
   "metadata": {},
   "source": [
    "## Linear Regression"
   ]
  },
  {
   "cell_type": "code",
   "execution_count": 11,
   "metadata": {},
   "outputs": [],
   "source": [
    "#Create DF's for nothern and southern \n",
    "northern_hemisphere = weather_df.loc[weather_df[\"Lat\"] >= 0]\n",
    "southern_hemisphere = weather_df.loc[weather_df[\"Lat\"] < 0]\n",
    "\n",
    "#Line regression & Plot\n",
    "# can use st.pearsonr from scipy stats to calculate linear regression\n",
    "def linear_agression(x,y):\n",
    "    print(f\"The r-squared is : {round(st.pearsonr(x, y)[0],2)}\")\n",
    "    (slope, intercept, rvalue, pvalue, stderr) = linregress(x, y)\n",
    "    regress_values = x * slope + intercept\n",
    "    line_eq = \"y = \" + str(round(slope,2)) + \"x + \" + str(round(intercept,2))\n",
    "    plt.scatter(x, y)\n",
    "    plt.plot(x,regress_values,\"r-\")\n",
    "    return line_eq\n",
    "\n",
    "# Annotation for linear regression \n",
    "\n",
    "def annotate(line_eq, a, b):\n",
    "    plt.annotate(line_eq,(a,b),fontsize=15,color=\"green\")"
   ]
  },
  {
   "cell_type": "markdown",
   "metadata": {},
   "source": [
    "####  Northern Hemisphere - Max Temp vs. Latitude Linear Regression"
   ]
  },
  {
   "cell_type": "code",
   "execution_count": 12,
   "metadata": {},
   "outputs": [
    {
     "name": "stdout",
     "output_type": "stream",
     "text": [
      "The r-squared is : -0.89\n"
     ]
    },
    {
     "data": {
      "image/png": "[encoded data removed]",
      "text/plain": [
       "<Figure size 432x288 with 1 Axes>"
      ]
     },
     "metadata": {
      "needs_background": "light"
     },
     "output_type": "display_data"
    }
   ],
   "source": [
    "equation = linear_agression(northern_hemisphere[\"Lat\"], northern_hemisphere[\"Max Temp\"])\n",
    "\n",
    "# use annotate function \n",
    "annotate(equation, 10,20)\n",
    "\n",
    "# Set a title\n",
    "plt.title(\"Northern Hemisphere - Max Temp vs. Latitude Linear Regression\")\n",
    "\n",
    "# Set xlabel\n",
    "plt.xlabel(\"Latitude\")\n",
    "\n",
    "# Set ylabel\n",
    "plt.ylabel(\"Max Temp (F)\")\n",
    "\n",
    "# Save the figure\n",
    "plt.savefig(r\"C:\\Users\\kndrs\\Python-Api-Challenge\\Weather Py\\Northern Hemisphere - Max Temp vs. Latitude Linear Regression.png\")"
   ]
  },
  {
   "cell_type": "markdown",
   "metadata": {},
   "source": [
    "In the nothern hemisphere, as you shift from the equator the temperature increases "
   ]
  },
  {
   "cell_type": "markdown",
   "metadata": {},
   "source": [
    "####  Southern Hemisphere - Max Temp vs. Latitude Linear Regression"
   ]
  },
  {
   "cell_type": "code",
   "execution_count": 13,
   "metadata": {},
   "outputs": [
    {
     "name": "stdout",
     "output_type": "stream",
     "text": [
      "The r-squared is : 0.71\n"
     ]
    },
    {
     "data": {
      "image/png": "[encoded data removed]",
      "text/plain": [
       "<Figure size 432x288 with 1 Axes>"
      ]
     },
     "metadata": {
      "needs_background": "light"
     },
     "output_type": "display_data"
    }
   ],
   "source": [
    "equation = linear_agression(southern_hemisphere[\"Lat\"], southern_hemisphere[\"Max Temp\"])\n",
    "\n",
    "# use annotate function \n",
    "annotate(equation, -50,80)\n",
    "\n",
    "# Set a title\n",
    "plt.title(\"southern Hemisphere - Max Temp vs. Latitude Linear Regression\")\n",
    "\n",
    "# Set xlabel\n",
    "plt.xlabel(\"Latitude\")\n",
    "\n",
    "# Set ylabel\n",
    "plt.ylabel(\"Max Temp (F)\")\n",
    "\n",
    "# Save the figure\n",
    "plt.savefig(r\"C:\\Users\\kndrs\\Python-Api-Challenge\\Weather Py\\Southern Hemisphere - Max Temp vs. Latitude Linear Regression.png\")"
   ]
  },
  {
   "cell_type": "markdown",
   "metadata": {},
   "source": [
    "The plot shows as you shift towards the equator the temperature increases "
   ]
  },
  {
   "cell_type": "markdown",
   "metadata": {},
   "source": [
    "####  Northern Hemisphere - Humidity (%) vs. Latitude Linear Regression"
   ]
  },
  {
   "cell_type": "code",
   "execution_count": 14,
   "metadata": {
    "scrolled": true
   },
   "outputs": [
    {
     "name": "stdout",
     "output_type": "stream",
     "text": [
      "The r-squared is : 0.14\n"
     ]
    },
    {
     "data": {
      "image/png": "[encoded data removed]",
      "text/plain": [
       "<Figure size 432x288 with 1 Axes>"
      ]
     },
     "metadata": {
      "needs_background": "light"
     },
     "output_type": "display_data"
    }
   ],
   "source": [
    "equation = linear_agression(northern_hemisphere[\"Lat\"], northern_hemisphere[\"Humidity\"])\n",
    "\n",
    "# use annotate function \n",
    "annotate(equation, 60,10)\n",
    "\n",
    "# Set a title\n",
    "plt.title(\"Northern Hemisphere - Latitude vs. Humidity Linear Regression\")\n",
    "\n",
    "# Set xlabel\n",
    "plt.xlabel(\"Latitude\")\n",
    "\n",
    "# Set ylabel\n",
    "plt.ylabel(\"Max Temp (F)\")\n",
    "\n",
    "# Save the figure\n",
    "plt.savefig(r\"C:\\Users\\kndrs\\Python-Api-Challenge\\Weather Py\\Northern Hemisphere - Humidity vs. Latitude Linear Regression.png\")"
   ]
  },
  {
   "cell_type": "markdown",
   "metadata": {},
   "source": [
    "The plot does not really show a correlation between humidity and latitude "
   ]
  },
  {
   "cell_type": "markdown",
   "metadata": {},
   "source": [
    "####  Southern Hemisphere - Humidity (%) vs. Latitude Linear Regression"
   ]
  },
  {
   "cell_type": "code",
   "execution_count": 15,
   "metadata": {},
   "outputs": [
    {
     "name": "stdout",
     "output_type": "stream",
     "text": [
      "The r-squared is : 0.23\n"
     ]
    },
    {
     "data": {
      "image/png": "[encoded data removed]",
      "text/plain": [
       "<Figure size 432x288 with 1 Axes>"
      ]
     },
     "metadata": {
      "needs_background": "light"
     },
     "output_type": "display_data"
    }
   ],
   "source": [
    "equation = linear_agression(southern_hemisphere[\"Lat\"], southern_hemisphere[\"Humidity\"])\n",
    "\n",
    "# use annotate function \n",
    "annotate(equation, -50,20)\n",
    "\n",
    "# Set a title\n",
    "plt.title(\"Southern Hemisphere - Latitude vs. Humidity Linear Regression\")\n",
    "\n",
    "# Set xlabel\n",
    "plt.xlabel(\"Latitude\")\n",
    "\n",
    "# Set ylabel\n",
    "plt.ylabel(\"Humidity\")\n",
    "\n",
    "# Save the figure\n",
    "plt.savefig(r\"C:\\Users\\kndrs\\Python-Api-Challenge\\Weather Py\\Northern Hemisphere - Humidity vs. Latitude Linear Regression.png\")"
   ]
  },
  {
   "cell_type": "markdown",
   "metadata": {},
   "source": [
    "####  Northern Hemisphere - Cloudiness (%) vs. Latitude Linear Regression"
   ]
  },
  {
   "cell_type": "markdown",
   "metadata": {},
   "source": [
    "The plot does not really show a correlation between humidity and latitude "
   ]
  },
  {
   "cell_type": "code",
   "execution_count": 16,
   "metadata": {},
   "outputs": [
    {
     "name": "stdout",
     "output_type": "stream",
     "text": [
      "The r-squared is : 0.19\n"
     ]
    },
    {
     "data": {
      "image/png": "[encoded data removed]",
      "text/plain": [
       "<Figure size 432x288 with 1 Axes>"
      ]
     },
     "metadata": {
      "needs_background": "light"
     },
     "output_type": "display_data"
    }
   ],
   "source": [
    "\n",
    "equation = linear_agression(northern_hemisphere[\"Lat\"], northern_hemisphere[\"Cloudiness\"])\n",
    "\n",
    "# use annotate function \n",
    "annotate(equation, 30, 40)\n",
    "\n",
    "# Set a title\n",
    "plt.title(\"Northern Hemisphere - Cloudiness (%) vs. Latitude Linear Regression\")\n",
    "\n",
    "# Set xlabel\n",
    "plt.xlabel(\"Latitude\")\n",
    "\n",
    "# Set ylabel\n",
    "plt.ylabel(\"Cloudiness (%)\")\n",
    "\n",
    "plt.savefig(r\"C:\\Users\\kndrs\\Python-Api-Challenge\\Weather Py\\Northern Hemisphere - Cloudiness vs. Latitude Linear Regression.png\")"
   ]
  },
  {
   "cell_type": "markdown",
   "metadata": {},
   "source": [
    "The plot does not really show a correlation between cloudiness and latitude "
   ]
  },
  {
   "cell_type": "markdown",
   "metadata": {},
   "source": [
    "####  Southern Hemisphere - Cloudiness (%) vs. Latitude Linear Regression"
   ]
  },
  {
   "cell_type": "code",
   "execution_count": 17,
   "metadata": {},
   "outputs": [
    {
     "name": "stdout",
     "output_type": "stream",
     "text": [
      "The r-squared is : 0.23\n"
     ]
    },
    {
     "data": {
      "image/png": "[encoded data removed]",
      "text/plain": [
       "<Figure size 432x288 with 1 Axes>"
      ]
     },
     "metadata": {
      "needs_background": "light"
     },
     "output_type": "display_data"
    }
   ],
   "source": [
    "\n",
    "equation = linear_agression(southern_hemisphere[\"Lat\"], southern_hemisphere[\"Cloudiness\"])\n",
    "# use annotate function \n",
    "annotate(equation, -30, 40)\n",
    "\n",
    "# Set a title\n",
    "plt.title(\"Southern Hemisphere - Cloudiness (%) vs. Latitude Linear Regression\")\n",
    "\n",
    "# Set xlabel\n",
    "plt.xlabel(\"Latitude\")\n",
    "\n",
    "# Set ylabel\n",
    "plt.ylabel(\"Cloudiness (%)\")\n",
    "\n",
    "# Save the figure\n",
    "plt.savefig(r\"C:\\Users\\kndrs\\Python-Api-Challenge\\Weather Py\\Southern Hemisphere - Cloudiness vs. Latitude Linear Regression.png\")"
   ]
  },
  {
   "cell_type": "markdown",
   "metadata": {},
   "source": [
    "The plot does not really show a correlation between cloudiness and latitude "
   ]
  },
  {
   "cell_type": "markdown",
   "metadata": {},
   "source": [
    "####  Northern Hemisphere - Wind Speed (mph) vs. Latitude Linear Regression"
   ]
  },
  {
   "cell_type": "code",
   "execution_count": 20,
   "metadata": {},
   "outputs": [
    {
     "name": "stdout",
     "output_type": "stream",
     "text": [
      "The r-squared is : 0.16\n"
     ]
    },
    {
     "data": {
      "image/png": "[encoded data removed]",
      "text/plain": [
       "<Figure size 432x288 with 1 Axes>"
      ]
     },
     "metadata": {
      "needs_background": "light"
     },
     "output_type": "display_data"
    }
   ],
   "source": [
    "\n",
    "equation = linear_agression(northern_hemisphere[\"Lat\"], northern_hemisphere[\"Wind Speed\"])\n",
    "# use annotate function \n",
    "annotate(equation, 40,40)\n",
    "\n",
    "# Set  title\n",
    "plt.title(\"Northern Hemisphere - Wind Speed (mph) vs. Latitude Linear Regression\")\n",
    "\n",
    "# Set xlabel\n",
    "plt.xlabel(\"Latitude\")\n",
    "\n",
    "# Set ylabel\n",
    "plt.ylabel(\"Wind Speed (mph)\")\n",
    "\n",
    "plt.savefig(r\"C:\\Users\\kndrs\\Python-Api-Challenge\\Weather Py\\Northern Hemisphere - Wind Speed vs. Latitude Linear Regression.png\")"
   ]
  },
  {
   "cell_type": "markdown",
   "metadata": {},
   "source": [
    "The plot does not really show a correlation between wind speed and latitude "
   ]
  },
  {
   "cell_type": "markdown",
   "metadata": {},
   "source": [
    "####  Southern Hemisphere - Wind Speed (mph) vs. Latitude Linear Regression"
   ]
  },
  {
   "cell_type": "code",
   "execution_count": 19,
   "metadata": {},
   "outputs": [
    {
     "name": "stdout",
     "output_type": "stream",
     "text": [
      "The r-squared is : -0.22\n"
     ]
    },
    {
     "data": {
      "image/png": "[encoded data removed]",
      "text/plain": [
       "<Figure size 432x288 with 1 Axes>"
      ]
     },
     "metadata": {
      "needs_background": "light"
     },
     "output_type": "display_data"
    }
   ],
   "source": [
    "\n",
    "equation = linear_agression(southern_hemisphere[\"Lat\"], southern_hemisphere[\"Wind Speed\"])\n",
    "\n",
    "# use annotate function \n",
    "annotate(equation, -10, 20)\n",
    "\n",
    "# Set  title\n",
    "plt.title(\"Southern Hemisphere - Wind Speed (mph) vs. Latitude Linear Regression\")\n",
    "\n",
    "# Set xlabel\n",
    "plt.xlabel(\"Latitude\")\n",
    "\n",
    "# Set ylabel\n",
    "plt.ylabel(\"Wind Speed (mph)\")\n",
    "\n",
    "plt.savefig(r\"C:\\Users\\kndrs\\Python-Api-Challenge\\Weather Py\\Southern Hemisphere - wind speed vs. Latitude Linear Regression.png\")"
   ]
  },
  {
   "cell_type": "markdown",
   "metadata": {},
   "source": [
    "The plot does not really show a correlation between wind speed and latitude "
   ]
  }
 ],
 "metadata": {
  "anaconda-cloud": {},
  "kernel_info": {
   "name": "python3"
  },
  "kernelspec": {
   "display_name": "Python [conda env:PythonData] *",
   "language": "python",
   "name": "conda-env-PythonData-py"
  },
  "language_info": {
   "codemirror_mode": {
    "name": "ipython",
    "version": 3
   },
   "file_extension": ".py",
   "mimetype": "text/x-python",
   "name": "python",
   "nbconvert_exporter": "python",
   "pygments_lexer": "ipython3",
   "version": "3.6.10"
  },
  "latex_envs": {
   "LaTeX_envs_menu_present": true,
   "autoclose": false,
   "autocomplete": true,
   "bibliofile": "biblio.bib",
   "cite_by": "apalike",
   "current_citInitial": 1,
   "eqLabelWithNumbers": true,
   "eqNumInitial": 1,
   "hotkeys": {
    "equation": "Ctrl-E",
    "itemize": "Ctrl-I"
   },
   "labels_anchors": false,
   "latex_user_defs": false,
   "report_style_numbering": false,
   "user_envs_cfg": false
  },
  "nteract": {
   "version": "0.12.3"
  }
 },
 "nbformat": 4,
 "nbformat_minor": 2
}
